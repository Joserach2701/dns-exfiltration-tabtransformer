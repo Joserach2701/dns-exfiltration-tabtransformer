{
 "cells": [
  {
   "cell_type": "code",
   "execution_count": 3,
   "id": "0248d2a3-5485-4660-a3ff-ddbb335e93ec",
   "metadata": {},
   "outputs": [],
   "source": [
    "import pandas as pd\n",
    "import tensorflow as tf\n",
    "import matplotlib.pyplot as plt\n",
    "import seaborn as sns\n",
    "from tensorflow import keras\n",
    "from tensorflow.keras import layers\n",
    "from sklearn.preprocessing import StandardScaler\n",
    "from sklearn.metrics import confusion_matrix, classification_report\n",
    "\n",
    "\n",
    "\n",
    "train_df = pd.read_csv('cleaned_train_data.csv')\n",
    "test_df = pd.read_csv('cleaned_test_data.csv')\n",
    "\n",
    "selected_features = ['sending_bytes', 'min_packets_len','ttl_values_max', 'ttl_values_mean', 'distinct_A_records']\n",
    "X_train = train_df[selected_features].values\n",
    "y_train = train_df['label'].values  \n",
    "\n",
    "X_test = test_df[selected_features].values\n",
    "y_test = test_df['label'].values\n",
    "\n",
    "\n",
    "X_train_tensor = tf.convert_to_tensor(X_train, dtype=tf.float32)\n",
    "y_train_tensor = tf.convert_to_tensor(y_train, dtype=tf.int32)\n",
    "\n",
    "X_test_tensor = tf.convert_to_tensor(X_test, dtype=tf.float32)\n",
    "y_test_tensor = tf.convert_to_tensor(y_test, dtype=tf.int32)\n",
    "\n",
    "\n",
    "\n",
    "\n"
   ]
  },
  {
   "cell_type": "code",
   "execution_count": 8,
   "id": "0ae7191c-b22f-459d-84c2-0cf50e54e321",
   "metadata": {},
   "outputs": [
    {
     "data": {
      "text/html": [
       "<pre style=\"white-space:pre;overflow-x:auto;line-height:normal;font-family:Menlo,'DejaVu Sans Mono',consolas,'Courier New',monospace\"><span style=\"font-weight: bold\">Model: \"functional_1\"</span>\n",
       "</pre>\n"
      ],
      "text/plain": [
       "\u001b[1mModel: \"functional_1\"\u001b[0m\n"
      ]
     },
     "metadata": {},
     "output_type": "display_data"
    },
    {
     "data": {
      "text/html": [
       "<pre style=\"white-space:pre;overflow-x:auto;line-height:normal;font-family:Menlo,'DejaVu Sans Mono',consolas,'Courier New',monospace\">┏━━━━━━━━━━━━━━━━━━━━━┳━━━━━━━━━━━━━━━━━━━┳━━━━━━━━━━━━┳━━━━━━━━━━━━━━━━━━━┓\n",
       "┃<span style=\"font-weight: bold\"> Layer (type)        </span>┃<span style=\"font-weight: bold\"> Output Shape      </span>┃<span style=\"font-weight: bold\">    Param # </span>┃<span style=\"font-weight: bold\"> Connected to      </span>┃\n",
       "┡━━━━━━━━━━━━━━━━━━━━━╇━━━━━━━━━━━━━━━━━━━╇━━━━━━━━━━━━╇━━━━━━━━━━━━━━━━━━━┩\n",
       "│ input_layer_1       │ (<span style=\"color: #00d7ff; text-decoration-color: #00d7ff\">None</span>, <span style=\"color: #00af00; text-decoration-color: #00af00\">5</span>)         │          <span style=\"color: #00af00; text-decoration-color: #00af00\">0</span> │ -                 │\n",
       "│ (<span style=\"color: #0087ff; text-decoration-color: #0087ff\">InputLayer</span>)        │                   │            │                   │\n",
       "├─────────────────────┼───────────────────┼────────────┼───────────────────┤\n",
       "│ dense_3 (<span style=\"color: #0087ff; text-decoration-color: #0087ff\">Dense</span>)     │ (<span style=\"color: #00d7ff; text-decoration-color: #00d7ff\">None</span>, <span style=\"color: #00af00; text-decoration-color: #00af00\">12</span>)        │         <span style=\"color: #00af00; text-decoration-color: #00af00\">72</span> │ input_layer_1[<span style=\"color: #00af00; text-decoration-color: #00af00\">0</span>]… │\n",
       "├─────────────────────┼───────────────────┼────────────┼───────────────────┤\n",
       "│ reshape_1 (<span style=\"color: #0087ff; text-decoration-color: #0087ff\">Reshape</span>) │ (<span style=\"color: #00d7ff; text-decoration-color: #00d7ff\">None</span>, <span style=\"color: #00af00; text-decoration-color: #00af00\">1</span>, <span style=\"color: #00af00; text-decoration-color: #00af00\">12</span>)     │          <span style=\"color: #00af00; text-decoration-color: #00af00\">0</span> │ dense_3[<span style=\"color: #00af00; text-decoration-color: #00af00\">0</span>][<span style=\"color: #00af00; text-decoration-color: #00af00\">0</span>]     │\n",
       "├─────────────────────┼───────────────────┼────────────┼───────────────────┤\n",
       "│ multi_head_attenti… │ (<span style=\"color: #00d7ff; text-decoration-color: #00d7ff\">None</span>, <span style=\"color: #00af00; text-decoration-color: #00af00\">1</span>, <span style=\"color: #00af00; text-decoration-color: #00af00\">12</span>)     │        <span style=\"color: #00af00; text-decoration-color: #00af00\">420</span> │ reshape_1[<span style=\"color: #00af00; text-decoration-color: #00af00\">0</span>][<span style=\"color: #00af00; text-decoration-color: #00af00\">0</span>],  │\n",
       "│ (<span style=\"color: #0087ff; text-decoration-color: #0087ff\">MultiHeadAttentio…</span> │                   │            │ reshape_1[<span style=\"color: #00af00; text-decoration-color: #00af00\">0</span>][<span style=\"color: #00af00; text-decoration-color: #00af00\">0</span>],  │\n",
       "│                     │                   │            │ reshape_1[<span style=\"color: #00af00; text-decoration-color: #00af00\">0</span>][<span style=\"color: #00af00; text-decoration-color: #00af00\">0</span>]   │\n",
       "├─────────────────────┼───────────────────┼────────────┼───────────────────┤\n",
       "│ layer_normalizatio… │ (<span style=\"color: #00d7ff; text-decoration-color: #00d7ff\">None</span>, <span style=\"color: #00af00; text-decoration-color: #00af00\">1</span>, <span style=\"color: #00af00; text-decoration-color: #00af00\">12</span>)     │         <span style=\"color: #00af00; text-decoration-color: #00af00\">24</span> │ multi_head_atten… │\n",
       "│ (<span style=\"color: #0087ff; text-decoration-color: #0087ff\">LayerNormalizatio…</span> │                   │            │                   │\n",
       "├─────────────────────┼───────────────────┼────────────┼───────────────────┤\n",
       "│ add_1 (<span style=\"color: #0087ff; text-decoration-color: #0087ff\">Add</span>)         │ (<span style=\"color: #00d7ff; text-decoration-color: #00d7ff\">None</span>, <span style=\"color: #00af00; text-decoration-color: #00af00\">1</span>, <span style=\"color: #00af00; text-decoration-color: #00af00\">12</span>)     │          <span style=\"color: #00af00; text-decoration-color: #00af00\">0</span> │ reshape_1[<span style=\"color: #00af00; text-decoration-color: #00af00\">0</span>][<span style=\"color: #00af00; text-decoration-color: #00af00\">0</span>],  │\n",
       "│                     │                   │            │ layer_normalizat… │\n",
       "├─────────────────────┼───────────────────┼────────────┼───────────────────┤\n",
       "│ flatten_1 (<span style=\"color: #0087ff; text-decoration-color: #0087ff\">Flatten</span>) │ (<span style=\"color: #00d7ff; text-decoration-color: #00d7ff\">None</span>, <span style=\"color: #00af00; text-decoration-color: #00af00\">12</span>)        │          <span style=\"color: #00af00; text-decoration-color: #00af00\">0</span> │ add_1[<span style=\"color: #00af00; text-decoration-color: #00af00\">0</span>][<span style=\"color: #00af00; text-decoration-color: #00af00\">0</span>]       │\n",
       "├─────────────────────┼───────────────────┼────────────┼───────────────────┤\n",
       "│ dense_4 (<span style=\"color: #0087ff; text-decoration-color: #0087ff\">Dense</span>)     │ (<span style=\"color: #00d7ff; text-decoration-color: #00d7ff\">None</span>, <span style=\"color: #00af00; text-decoration-color: #00af00\">2</span>)         │         <span style=\"color: #00af00; text-decoration-color: #00af00\">26</span> │ flatten_1[<span style=\"color: #00af00; text-decoration-color: #00af00\">0</span>][<span style=\"color: #00af00; text-decoration-color: #00af00\">0</span>]   │\n",
       "├─────────────────────┼───────────────────┼────────────┼───────────────────┤\n",
       "│ dropout_3 (<span style=\"color: #0087ff; text-decoration-color: #0087ff\">Dropout</span>) │ (<span style=\"color: #00d7ff; text-decoration-color: #00d7ff\">None</span>, <span style=\"color: #00af00; text-decoration-color: #00af00\">2</span>)         │          <span style=\"color: #00af00; text-decoration-color: #00af00\">0</span> │ dense_4[<span style=\"color: #00af00; text-decoration-color: #00af00\">0</span>][<span style=\"color: #00af00; text-decoration-color: #00af00\">0</span>]     │\n",
       "├─────────────────────┼───────────────────┼────────────┼───────────────────┤\n",
       "│ dense_5 (<span style=\"color: #0087ff; text-decoration-color: #0087ff\">Dense</span>)     │ (<span style=\"color: #00d7ff; text-decoration-color: #00d7ff\">None</span>, <span style=\"color: #00af00; text-decoration-color: #00af00\">2</span>)         │          <span style=\"color: #00af00; text-decoration-color: #00af00\">6</span> │ dropout_3[<span style=\"color: #00af00; text-decoration-color: #00af00\">0</span>][<span style=\"color: #00af00; text-decoration-color: #00af00\">0</span>]   │\n",
       "└─────────────────────┴───────────────────┴────────────┴───────────────────┘\n",
       "</pre>\n"
      ],
      "text/plain": [
       "┏━━━━━━━━━━━━━━━━━━━━━┳━━━━━━━━━━━━━━━━━━━┳━━━━━━━━━━━━┳━━━━━━━━━━━━━━━━━━━┓\n",
       "┃\u001b[1m \u001b[0m\u001b[1mLayer (type)       \u001b[0m\u001b[1m \u001b[0m┃\u001b[1m \u001b[0m\u001b[1mOutput Shape     \u001b[0m\u001b[1m \u001b[0m┃\u001b[1m \u001b[0m\u001b[1m   Param #\u001b[0m\u001b[1m \u001b[0m┃\u001b[1m \u001b[0m\u001b[1mConnected to     \u001b[0m\u001b[1m \u001b[0m┃\n",
       "┡━━━━━━━━━━━━━━━━━━━━━╇━━━━━━━━━━━━━━━━━━━╇━━━━━━━━━━━━╇━━━━━━━━━━━━━━━━━━━┩\n",
       "│ input_layer_1       │ (\u001b[38;5;45mNone\u001b[0m, \u001b[38;5;34m5\u001b[0m)         │          \u001b[38;5;34m0\u001b[0m │ -                 │\n",
       "│ (\u001b[38;5;33mInputLayer\u001b[0m)        │                   │            │                   │\n",
       "├─────────────────────┼───────────────────┼────────────┼───────────────────┤\n",
       "│ dense_3 (\u001b[38;5;33mDense\u001b[0m)     │ (\u001b[38;5;45mNone\u001b[0m, \u001b[38;5;34m12\u001b[0m)        │         \u001b[38;5;34m72\u001b[0m │ input_layer_1[\u001b[38;5;34m0\u001b[0m]… │\n",
       "├─────────────────────┼───────────────────┼────────────┼───────────────────┤\n",
       "│ reshape_1 (\u001b[38;5;33mReshape\u001b[0m) │ (\u001b[38;5;45mNone\u001b[0m, \u001b[38;5;34m1\u001b[0m, \u001b[38;5;34m12\u001b[0m)     │          \u001b[38;5;34m0\u001b[0m │ dense_3[\u001b[38;5;34m0\u001b[0m][\u001b[38;5;34m0\u001b[0m]     │\n",
       "├─────────────────────┼───────────────────┼────────────┼───────────────────┤\n",
       "│ multi_head_attenti… │ (\u001b[38;5;45mNone\u001b[0m, \u001b[38;5;34m1\u001b[0m, \u001b[38;5;34m12\u001b[0m)     │        \u001b[38;5;34m420\u001b[0m │ reshape_1[\u001b[38;5;34m0\u001b[0m][\u001b[38;5;34m0\u001b[0m],  │\n",
       "│ (\u001b[38;5;33mMultiHeadAttentio…\u001b[0m │                   │            │ reshape_1[\u001b[38;5;34m0\u001b[0m][\u001b[38;5;34m0\u001b[0m],  │\n",
       "│                     │                   │            │ reshape_1[\u001b[38;5;34m0\u001b[0m][\u001b[38;5;34m0\u001b[0m]   │\n",
       "├─────────────────────┼───────────────────┼────────────┼───────────────────┤\n",
       "│ layer_normalizatio… │ (\u001b[38;5;45mNone\u001b[0m, \u001b[38;5;34m1\u001b[0m, \u001b[38;5;34m12\u001b[0m)     │         \u001b[38;5;34m24\u001b[0m │ multi_head_atten… │\n",
       "│ (\u001b[38;5;33mLayerNormalizatio…\u001b[0m │                   │            │                   │\n",
       "├─────────────────────┼───────────────────┼────────────┼───────────────────┤\n",
       "│ add_1 (\u001b[38;5;33mAdd\u001b[0m)         │ (\u001b[38;5;45mNone\u001b[0m, \u001b[38;5;34m1\u001b[0m, \u001b[38;5;34m12\u001b[0m)     │          \u001b[38;5;34m0\u001b[0m │ reshape_1[\u001b[38;5;34m0\u001b[0m][\u001b[38;5;34m0\u001b[0m],  │\n",
       "│                     │                   │            │ layer_normalizat… │\n",
       "├─────────────────────┼───────────────────┼────────────┼───────────────────┤\n",
       "│ flatten_1 (\u001b[38;5;33mFlatten\u001b[0m) │ (\u001b[38;5;45mNone\u001b[0m, \u001b[38;5;34m12\u001b[0m)        │          \u001b[38;5;34m0\u001b[0m │ add_1[\u001b[38;5;34m0\u001b[0m][\u001b[38;5;34m0\u001b[0m]       │\n",
       "├─────────────────────┼───────────────────┼────────────┼───────────────────┤\n",
       "│ dense_4 (\u001b[38;5;33mDense\u001b[0m)     │ (\u001b[38;5;45mNone\u001b[0m, \u001b[38;5;34m2\u001b[0m)         │         \u001b[38;5;34m26\u001b[0m │ flatten_1[\u001b[38;5;34m0\u001b[0m][\u001b[38;5;34m0\u001b[0m]   │\n",
       "├─────────────────────┼───────────────────┼────────────┼───────────────────┤\n",
       "│ dropout_3 (\u001b[38;5;33mDropout\u001b[0m) │ (\u001b[38;5;45mNone\u001b[0m, \u001b[38;5;34m2\u001b[0m)         │          \u001b[38;5;34m0\u001b[0m │ dense_4[\u001b[38;5;34m0\u001b[0m][\u001b[38;5;34m0\u001b[0m]     │\n",
       "├─────────────────────┼───────────────────┼────────────┼───────────────────┤\n",
       "│ dense_5 (\u001b[38;5;33mDense\u001b[0m)     │ (\u001b[38;5;45mNone\u001b[0m, \u001b[38;5;34m2\u001b[0m)         │          \u001b[38;5;34m6\u001b[0m │ dropout_3[\u001b[38;5;34m0\u001b[0m][\u001b[38;5;34m0\u001b[0m]   │\n",
       "└─────────────────────┴───────────────────┴────────────┴───────────────────┘\n"
      ]
     },
     "metadata": {},
     "output_type": "display_data"
    },
    {
     "data": {
      "text/html": [
       "<pre style=\"white-space:pre;overflow-x:auto;line-height:normal;font-family:Menlo,'DejaVu Sans Mono',consolas,'Courier New',monospace\"><span style=\"font-weight: bold\"> Total params: </span><span style=\"color: #00af00; text-decoration-color: #00af00\">548</span> (2.14 KB)\n",
       "</pre>\n"
      ],
      "text/plain": [
       "\u001b[1m Total params: \u001b[0m\u001b[38;5;34m548\u001b[0m (2.14 KB)\n"
      ]
     },
     "metadata": {},
     "output_type": "display_data"
    },
    {
     "data": {
      "text/html": [
       "<pre style=\"white-space:pre;overflow-x:auto;line-height:normal;font-family:Menlo,'DejaVu Sans Mono',consolas,'Courier New',monospace\"><span style=\"font-weight: bold\"> Trainable params: </span><span style=\"color: #00af00; text-decoration-color: #00af00\">548</span> (2.14 KB)\n",
       "</pre>\n"
      ],
      "text/plain": [
       "\u001b[1m Trainable params: \u001b[0m\u001b[38;5;34m548\u001b[0m (2.14 KB)\n"
      ]
     },
     "metadata": {},
     "output_type": "display_data"
    },
    {
     "data": {
      "text/html": [
       "<pre style=\"white-space:pre;overflow-x:auto;line-height:normal;font-family:Menlo,'DejaVu Sans Mono',consolas,'Courier New',monospace\"><span style=\"font-weight: bold\"> Non-trainable params: </span><span style=\"color: #00af00; text-decoration-color: #00af00\">0</span> (0.00 B)\n",
       "</pre>\n"
      ],
      "text/plain": [
       "\u001b[1m Non-trainable params: \u001b[0m\u001b[38;5;34m0\u001b[0m (0.00 B)\n"
      ]
     },
     "metadata": {},
     "output_type": "display_data"
    }
   ],
   "source": [
    "import tensorflow as tf\n",
    "from tensorflow import keras\n",
    "from tensorflow.keras import layers, regularizers\n",
    "\n",
    "# Define input layer\n",
    "input_layer = keras.Input(shape=(5,))  \n",
    "\n",
    "# Simple Dense Layer with Regularization\n",
    "x = layers.Dense(12, activation='relu', kernel_regularizer=regularizers.l2(0.001))(input_layer)\n",
    "\n",
    "# Reshape for Multi-Head Attention\n",
    "x = layers.Reshape((1, 12))(x)  \n",
    "\n",
    "# Multi-Head Attention \n",
    "attn_output = layers.MultiHeadAttention(num_heads=1, key_dim=8)(x, x, x)  \n",
    "attn_output = layers.LayerNormalization()(attn_output)\n",
    "\n",
    "# Residual Connection \n",
    "x = layers.Add()([x, attn_output])\n",
    "\n",
    "# Flatten & Dense Layers for Classification\n",
    "x = layers.Flatten()(x)\n",
    "x = layers.Dense(2, activation='relu', kernel_regularizer=regularizers.l2(0.001))(x)\n",
    "x = layers.Dropout(0.3)(x)  \n",
    "\n",
    "# Output Layer (Binary Classification)\n",
    "output_layer = layers.Dense(2, activation='softmax')(x)\n",
    "\n",
    "# Create Model\n",
    "model = keras.Model(inputs=input_layer, outputs=output_layer)\n",
    "\n",
    "# Compile Model with Optimizer & Loss\n",
    "model.compile(optimizer=keras.optimizers.Adam(learning_rate=0.001),\n",
    "              loss='sparse_categorical_crossentropy',\n",
    "              metrics=['accuracy'])\n",
    "\n",
    "# Print Model Summary\n",
    "model.summary()\n"
   ]
  },
  {
   "cell_type": "code",
   "execution_count": 9,
   "id": "dbf69d15-af6c-4773-8d73-bf03beb3e7e1",
   "metadata": {},
   "outputs": [
    {
     "name": "stdout",
     "output_type": "stream",
     "text": [
      "Epoch 1/10\n",
      "\u001b[1m26725/26725\u001b[0m \u001b[32m━━━━━━━━━━━━━━━━━━━━\u001b[0m\u001b[37m\u001b[0m \u001b[1m82s\u001b[0m 3ms/step - accuracy: 0.8319 - loss: 0.3323 - val_accuracy: 0.9958 - val_loss: 0.0289\n",
      "Epoch 2/10\n",
      "\u001b[1m26725/26725\u001b[0m \u001b[32m━━━━━━━━━━━━━━━━━━━━\u001b[0m\u001b[37m\u001b[0m \u001b[1m76s\u001b[0m 3ms/step - accuracy: 0.8464 - loss: 0.2332 - val_accuracy: 0.9928 - val_loss: 0.0441\n",
      "Epoch 3/10\n",
      "\u001b[1m26725/26725\u001b[0m \u001b[32m━━━━━━━━━━━━━━━━━━━━\u001b[0m\u001b[37m\u001b[0m \u001b[1m73s\u001b[0m 3ms/step - accuracy: 0.8454 - loss: 0.2333 - val_accuracy: 0.9979 - val_loss: 0.0251\n",
      "Epoch 4/10\n",
      "\u001b[1m26725/26725\u001b[0m \u001b[32m━━━━━━━━━━━━━━━━━━━━\u001b[0m\u001b[37m\u001b[0m \u001b[1m79s\u001b[0m 3ms/step - accuracy: 0.8473 - loss: 0.2277 - val_accuracy: 0.9979 - val_loss: 0.0214\n",
      "Epoch 5/10\n",
      "\u001b[1m26725/26725\u001b[0m \u001b[32m━━━━━━━━━━━━━━━━━━━━\u001b[0m\u001b[37m\u001b[0m \u001b[1m74s\u001b[0m 3ms/step - accuracy: 0.8473 - loss: 0.2293 - val_accuracy: 0.9965 - val_loss: 0.0347\n",
      "Epoch 6/10\n",
      "\u001b[1m26725/26725\u001b[0m \u001b[32m━━━━━━━━━━━━━━━━━━━━\u001b[0m\u001b[37m\u001b[0m \u001b[1m71s\u001b[0m 3ms/step - accuracy: 0.8475 - loss: 0.2338 - val_accuracy: 0.9931 - val_loss: 0.0382\n",
      "Epoch 7/10\n",
      "\u001b[1m26725/26725\u001b[0m \u001b[32m━━━━━━━━━━━━━━━━━━━━\u001b[0m\u001b[37m\u001b[0m \u001b[1m72s\u001b[0m 3ms/step - accuracy: 0.8470 - loss: 0.2258 - val_accuracy: 0.9930 - val_loss: 0.0291\n",
      "Epoch 8/10\n",
      "\u001b[1m26725/26725\u001b[0m \u001b[32m━━━━━━━━━━━━━━━━━━━━\u001b[0m\u001b[37m\u001b[0m \u001b[1m79s\u001b[0m 3ms/step - accuracy: 0.8468 - loss: 0.2264 - val_accuracy: 0.9971 - val_loss: 0.0164\n",
      "Epoch 9/10\n",
      "\u001b[1m26725/26725\u001b[0m \u001b[32m━━━━━━━━━━━━━━━━━━━━\u001b[0m\u001b[37m\u001b[0m \u001b[1m81s\u001b[0m 3ms/step - accuracy: 0.8472 - loss: 0.2243 - val_accuracy: 0.9980 - val_loss: 0.0164\n",
      "Epoch 10/10\n",
      "\u001b[1m26725/26725\u001b[0m \u001b[32m━━━━━━━━━━━━━━━━━━━━\u001b[0m\u001b[37m\u001b[0m \u001b[1m72s\u001b[0m 3ms/step - accuracy: 0.8464 - loss: 0.2236 - val_accuracy: 0.9840 - val_loss: 0.0513\n"
     ]
    }
   ],
   "source": [
    "history = model.fit(X_train, y_train, \n",
    "                    validation_data=(X_test, y_test), \n",
    "                    epochs=10, batch_size=32)"
   ]
  },
  {
   "cell_type": "code",
   "execution_count": 13,
   "id": "3290cdc9-901f-4138-8e82-69a0712cf56b",
   "metadata": {},
   "outputs": [
    {
     "name": "stdout",
     "output_type": "stream",
     "text": [
      "\u001b[1m6687/6687\u001b[0m \u001b[32m━━━━━━━━━━━━━━━━━━━━\u001b[0m\u001b[37m\u001b[0m \u001b[1m9s\u001b[0m 1ms/step\n",
      "Accuracy: 98.40\n",
      "[[103373   3418]\n",
      " [     0 107189]]\n"
     ]
    }
   ],
   "source": [
    "import numpy as np\n",
    "import seaborn as sns\n",
    "import matplotlib.pyplot as plt\n",
    "from sklearn.metrics import accuracy_score, confusion_matrix\n",
    "\n",
    "# Get predictions\n",
    "y_pred_probs = model.predict(X_test)\n",
    "y_pred = np.argmax(y_pred_probs, axis=1)  # Convert probabilities to class labels\n",
    "\n",
    "# Convert true labels if they are one-hot encoded\n",
    "y_true = np.argmax(y_test, axis=1) if len(y_test.shape) > 1 else y_test\n",
    "\n",
    "# Compute accuracy\n",
    "accuracy = accuracy_score(y_true, y_pred)\n",
    "print(f\"Accuracy: {accuracy*100:.2f}\")\n",
    "\n",
    "# Compute confusion matrix\n",
    "conf_matrix = confusion_matrix(y_true, y_pred)\n",
    "\n",
    "# Plot confusion matrix using Seaborn\n",
    "print(conf_matrix)"
   ]
  },
  {
   "cell_type": "code",
   "execution_count": 20,
   "id": "63f172fb-6484-4c02-b503-971bfc494bb5",
   "metadata": {},
   "outputs": [
    {
     "name": "stdout",
     "output_type": "stream",
     "text": [
      "\u001b[1m6687/6687\u001b[0m \u001b[32m━━━━━━━━━━━━━━━━━━━━\u001b[0m\u001b[37m\u001b[0m \u001b[1m11s\u001b[0m 2ms/step\n",
      "              precision    recall  f1-score   support\n",
      "\n",
      "           0       1.00      0.97      0.98    106791\n",
      "           1       0.97      1.00      0.98    107189\n",
      "\n",
      "    accuracy                           0.98    213980\n",
      "   macro avg       0.98      0.98      0.98    213980\n",
      "weighted avg       0.98      0.98      0.98    213980\n",
      "\n"
     ]
    }
   ],
   "source": [
    "from sklearn.metrics import classification_report\n",
    "\n",
    "# Get predictions\n",
    "y_pred_probs = model.predict(X_test)\n",
    "y_pred = np.argmax(y_pred_probs, axis=1)  # Convert probabilities to class labels\n",
    "\n",
    "# Convert true labels if they are one-hot encoded\n",
    "y_true = np.argmax(y_test, axis=1) if len(y_test.shape) > 1 else y_test\n",
    "\n",
    "# Generate classification report\n",
    "report = classification_report(y_true, y_pred)\n",
    "print(report)\n"
   ]
  },
  {
   "cell_type": "code",
   "execution_count": 16,
   "id": "7ee70f73-09cf-4014-b5b6-f243da918b88",
   "metadata": {},
   "outputs": [
    {
     "name": "stdout",
     "output_type": "stream",
     "text": [
      "                                             flow_id  \\\n",
      "0  2020-11-20 09:45:50.596673_192.168.20.38_65180...   \n",
      "1  2020-11-20 09:34:36.652573_192.168.20.38_51436...   \n",
      "2  2020-11-20 09:35:42.439182_192.168.20.38_64403...   \n",
      "3  2020-11-20 09:36:29.117098_192.168.20.38_61986...   \n",
      "4  2020-11-20 09:36:38.505992_192.168.20.38_56030...   \n",
      "\n",
      "                    timestamp         src_ip  src_port   dst_ip  dst_port  \\\n",
      "0  2020-11-20 09:45:50.596673  192.168.20.38     65180  8.8.8.8        53   \n",
      "1  2020-11-20 09:34:36.652573  192.168.20.38     51436  8.8.8.8        53   \n",
      "2  2020-11-20 09:35:42.439182  192.168.20.38     64403  8.8.8.8        53   \n",
      "3  2020-11-20 09:36:29.117098  192.168.20.38     61986  8.8.8.8        53   \n",
      "4  2020-11-20 09:36:38.505992  192.168.20.38     56030  8.8.8.8        53   \n",
      "\n",
      "   duration  total_bytes  receiving_bytes  sending_bytes  ...  \\\n",
      "0  0.160896          330              138            192  ...   \n",
      "1  0.015870          152              152              0  ...   \n",
      "2  0.000000           74               74              0  ...   \n",
      "3  0.020450          140              140              0  ...   \n",
      "4  0.046391          328              148            180  ...   \n",
      "\n",
      "   distinct_ttl_values  ttl_values_min  ttl_values_max  ttl_values_mean  \\\n",
      "0                    0              -1              -1               -1   \n",
      "1                    0              -1              -1               -1   \n",
      "2                    0              -1              -1               -1   \n",
      "3                    0              -1              -1               -1   \n",
      "4                    1              59              59      59.00000000   \n",
      "\n",
      "   ttl_values_mode  ttl_values_median  distinct_A_records  \\\n",
      "0               -1                 -1                   0   \n",
      "1               -1                 -1                   0   \n",
      "2               -1                 -1                   0   \n",
      "3               -1                 -1                   0   \n",
      "4      59.00000000        59.00000000                   2   \n",
      "\n",
      "   ans_resource_record_type ans_resource_record_class   label  \n",
      "0                        []                        []  Benign  \n",
      "1                        []                        []  Benign  \n",
      "2                        []                        []  Benign  \n",
      "3                        []                        []  Benign  \n",
      "4                    [1, 1]                    [1, 1]  Benign  \n",
      "\n",
      "[5 rows x 45 columns]\n"
     ]
    }
   ],
   "source": [
    "df_ben=pd.read_csv(\"benign_1.csv\")\n",
    "df_ben = df_ben[test_df.columns]\n",
    "\n",
    "# Display the first few rows to verify\n",
    "print(df_ben.head())"
   ]
  },
  {
   "cell_type": "code",
   "execution_count": 17,
   "id": "d9b16d41-1fcc-4d29-99ff-b093019003b1",
   "metadata": {},
   "outputs": [],
   "source": [
    "df_ben['label'] = 0\n",
    "\n"
   ]
  },
  {
   "cell_type": "code",
   "execution_count": 18,
   "id": "48ebd263-8809-43a5-b4c3-dc20e6a107a2",
   "metadata": {},
   "outputs": [
    {
     "name": "stdout",
     "output_type": "stream",
     "text": [
      "Rows after removal: 32716\n"
     ]
    }
   ],
   "source": [
    "df_ben = df_ben[~df_ben.apply(lambda row: row.astype(str).str.contains(\"not a dns flow\", case=False, na=False)).any(axis=1)]\n",
    "\n",
    "\n",
    "\n",
    "\n",
    "print(f\"Rows after removal: {df_ben.shape[0]}\")"
   ]
  },
  {
   "cell_type": "code",
   "execution_count": 26,
   "id": "25d773d0-d9eb-478e-9d93-cc7b6a48691a",
   "metadata": {},
   "outputs": [
    {
     "name": "stdout",
     "output_type": "stream",
     "text": [
      "                                             flow_id  \\\n",
      "0  2020-11-20 09:45:50.596673_192.168.20.38_65180...   \n",
      "1  2020-11-20 09:34:36.652573_192.168.20.38_51436...   \n",
      "2  2020-11-20 09:35:42.439182_192.168.20.38_64403...   \n",
      "3  2020-11-20 09:36:29.117098_192.168.20.38_61986...   \n",
      "4  2020-11-20 09:36:38.505992_192.168.20.38_56030...   \n",
      "\n",
      "                    timestamp         src_ip  src_port   dst_ip  dst_port  \\\n",
      "0  2020-11-20 09:45:50.596673  192.168.20.38  1.620219  8.8.8.8  -0.02065   \n",
      "1  2020-11-20 09:34:36.652573  192.168.20.38 -1.214195  8.8.8.8  -0.02065   \n",
      "2  2020-11-20 09:35:42.439182  192.168.20.38  1.459979  8.8.8.8  -0.02065   \n",
      "3  2020-11-20 09:36:29.117098  192.168.20.38  0.961523  8.8.8.8  -0.02065   \n",
      "4  2020-11-20 09:36:38.505992  192.168.20.38 -0.266778  8.8.8.8  -0.02065   \n",
      "\n",
      "   duration  total_bytes  receiving_bytes  sending_bytes  ...  \\\n",
      "0 -0.010128     0.012908        -0.005154       1.759067  ...   \n",
      "1 -0.011822    -0.012026        -0.003192      -0.860375  ...   \n",
      "2 -0.012008    -0.022953        -0.014120      -0.860375  ...   \n",
      "3 -0.011769    -0.013707        -0.004874      -0.860375  ...   \n",
      "4 -0.011466     0.012628        -0.003753       1.595352  ...   \n",
      "\n",
      "   distinct_ttl_values  ttl_values_min  ttl_values_max  ttl_values_mean  \\\n",
      "0                    0              -1              -1               -1   \n",
      "1                    0              -1              -1               -1   \n",
      "2                    0              -1              -1               -1   \n",
      "3                    0              -1              -1               -1   \n",
      "4                    1              59              59      59.00000000   \n",
      "\n",
      "   ttl_values_mode  ttl_values_median  distinct_A_records  \\\n",
      "0               -1                 -1                   0   \n",
      "1               -1                 -1                   0   \n",
      "2               -1                 -1                   0   \n",
      "3               -1                 -1                   0   \n",
      "4      59.00000000        59.00000000                   2   \n",
      "\n",
      "   ans_resource_record_type ans_resource_record_class label  \n",
      "0                        []                        []   0.0  \n",
      "1                        []                        []   0.0  \n",
      "2                        []                        []   0.0  \n",
      "3                        []                        []   0.0  \n",
      "4                    [1, 1]                    [1, 1]   0.0  \n",
      "\n",
      "[5 rows x 45 columns]\n"
     ]
    }
   ],
   "source": [
    "from sklearn.preprocessing import StandardScaler\n",
    "\n",
    "# Select only numerical columns\n",
    "numerical_cols = df_ben.select_dtypes(include=['number']).columns\n",
    "\n",
    "# Initialize scaler\n",
    "scaler = StandardScaler()\n",
    "\n",
    "# Fit and transform the numerical columns\n",
    "df_ben[numerical_cols] = scaler.fit_transform(df_ben[numerical_cols])\n",
    "\n",
    "# Display the first few rows to check\n",
    "print(df_ben.head())\n"
   ]
  },
  {
   "cell_type": "code",
   "execution_count": 19,
   "id": "e7f71c1e-4dee-4dd3-b212-3af5533b8f90",
   "metadata": {},
   "outputs": [
    {
     "name": "stdout",
     "output_type": "stream",
     "text": [
      "\u001b[1m1023/1023\u001b[0m \u001b[32m━━━━━━━━━━━━━━━━━━━━\u001b[0m\u001b[37m\u001b[0m \u001b[1m2s\u001b[0m 2ms/step\n",
      "Total Samples: 32716\n",
      "Correct Predictions: 31203\n",
      "Incorrect Predictions: 1513\n",
      "Accuracy: 95.38%\n"
     ]
    }
   ],
   "source": [
    "import numpy as np\n",
    "\n",
    "selected_features =['sending_bytes', 'min_packets_len','ttl_values_max', 'ttl_values_mean', 'distinct_A_records']\n",
    "label_column = 'label'  \n",
    "\n",
    "X_test_new = df_ben[selected_features].values  # Features\n",
    "y_test_new = df_ben[label_column].values       # Actual labels\n",
    "\n",
    "\n",
    "# Convert to Tensor\n",
    "X_test_ttensor = tf.convert_to_tensor(X_test_new, dtype=tf.float32)\n",
    "\n",
    "# Predict class probabilities\n",
    "predicted_probs = model.predict(X_test_ttensor)\n",
    "\n",
    "# Get predicted class (0 or 1)\n",
    "predicted_classes = np.argmax(predicted_probs, axis=1)\n",
    "\n",
    "# Compare with actual labels\n",
    "correct_predictions = np.sum(predicted_classes == y_test_new)\n",
    "incorrect_predictions = np.sum(predicted_classes != y_test_new)\n",
    "\n",
    "# Print results\n",
    "print(f\"Total Samples: {len(y_test_new)}\")\n",
    "print(f\"Correct Predictions: {correct_predictions}\")\n",
    "print(f\"Incorrect Predictions: {incorrect_predictions}\")\n",
    "print(f\"Accuracy: {correct_predictions / len(y_test_new) * 100:.2f}%\")\n"
   ]
  },
  {
   "cell_type": "code",
   "execution_count": 21,
   "id": "2207ab55-29d3-4b2f-9f88-8d11f680090c",
   "metadata": {},
   "outputs": [
    {
     "name": "stdout",
     "output_type": "stream",
     "text": [
      "                                             flow_id  \\\n",
      "0  2020-11-23 19:29:36.240593_192.168.20.38_54289...   \n",
      "1  2020-11-23 19:28:24.070956_192.168.20.38_49856...   \n",
      "2  2020-11-23 19:30:10.156905_192.168.20.38_63064...   \n",
      "3  2020-11-23 19:28:19.459205_192.168.20.38_63545...   \n",
      "4  2020-11-23 19:29:29.178753_192.168.20.38_50750...   \n",
      "\n",
      "                    timestamp         src_ip  src_port         dst_ip  \\\n",
      "0  2020-11-23 19:29:36.240593  192.168.20.38     54289  192.168.20.72   \n",
      "1  2020-11-23 19:28:24.070956  192.168.20.38     49856  192.168.20.72   \n",
      "2  2020-11-23 19:30:10.156905  192.168.20.38     63064  192.168.20.72   \n",
      "3  2020-11-23 19:28:19.459205  192.168.20.38     63545  192.168.20.72   \n",
      "4  2020-11-23 19:29:29.178753  192.168.20.38     50750  192.168.20.72   \n",
      "\n",
      "   dst_port  duration  total_bytes  receiving_bytes  sending_bytes  ...  \\\n",
      "0        53       0.0           96               96              0  ...   \n",
      "1        53       0.0           96               96              0  ...   \n",
      "2        53       0.0           96               96              0  ...   \n",
      "3        53       0.0           96               96              0  ...   \n",
      "4        53       0.0           96               96              0  ...   \n",
      "\n",
      "   distinct_ttl_values  ttl_values_min  ttl_values_max  ttl_values_mean  \\\n",
      "0                    0              -1              -1             -1.0   \n",
      "1                    0              -1              -1             -1.0   \n",
      "2                    0              -1              -1             -1.0   \n",
      "3                    0              -1              -1             -1.0   \n",
      "4                    0              -1              -1             -1.0   \n",
      "\n",
      "   ttl_values_mode  ttl_values_median  distinct_A_records  \\\n",
      "0             -1.0               -1.0                   0   \n",
      "1             -1.0               -1.0                   0   \n",
      "2             -1.0               -1.0                   0   \n",
      "3             -1.0               -1.0                   0   \n",
      "4             -1.0               -1.0                   0   \n",
      "\n",
      "   ans_resource_record_type ans_resource_record_class       label  \n",
      "0                        []                        []  Heavy-Text  \n",
      "1                        []                        []  Heavy-Text  \n",
      "2                        []                        []  Heavy-Text  \n",
      "3                        []                        []  Heavy-Text  \n",
      "4                        []                        []  Heavy-Text  \n",
      "\n",
      "[5 rows x 45 columns]\n"
     ]
    },
    {
     "name": "stderr",
     "output_type": "stream",
     "text": [
      "C:\\Users\\Joselin Rachel\\AppData\\Local\\Temp\\ipykernel_17468\\3195647395.py:1: DtypeWarning: Columns (87,88,92,94,95,96,97,98,99,100,101,102,103,104,105,106,107,108,109,110,111,112,113,114,115) have mixed types. Specify dtype option on import or set low_memory=False.\n",
      "  df_mal=pd.read_csv(\"heavy_text.csv\")\n"
     ]
    }
   ],
   "source": [
    "df_mal=pd.read_csv(\"heavy_text.csv\")\n",
    "df_mal = df_mal[test_df.columns]\n",
    "\n",
    "# Display the first few rows to verify\n",
    "print(df_mal.head())"
   ]
  },
  {
   "cell_type": "code",
   "execution_count": 23,
   "id": "b8c2c35a-0720-4937-83a3-fb5739032bca",
   "metadata": {},
   "outputs": [],
   "source": [
    "df_mal['label'] = 1\n",
    "\n"
   ]
  },
  {
   "cell_type": "code",
   "execution_count": 24,
   "id": "76748b42-c914-4f78-9120-7b98a618756e",
   "metadata": {},
   "outputs": [
    {
     "name": "stdout",
     "output_type": "stream",
     "text": [
      "Rows after removal: 27210\n"
     ]
    }
   ],
   "source": [
    "df_mal = df_mal[~df_mal.apply(lambda row: row.astype(str).str.contains(\"not a dns flow\", case=False, na=False)).any(axis=1)]\n",
    "\n",
    "# Save the cleaned dataset\n",
    "\n",
    "\n",
    "print(f\"Rows after removal: {df_mal.shape[0]}\")"
   ]
  },
  {
   "cell_type": "code",
   "execution_count": 25,
   "id": "5d21c2b4-c655-4d1b-89d0-a69d1e5936c1",
   "metadata": {},
   "outputs": [
    {
     "name": "stdout",
     "output_type": "stream",
     "text": [
      "                                             flow_id  \\\n",
      "0  2020-11-23 19:29:36.240593_192.168.20.38_54289...   \n",
      "1  2020-11-23 19:28:24.070956_192.168.20.38_49856...   \n",
      "2  2020-11-23 19:30:10.156905_192.168.20.38_63064...   \n",
      "3  2020-11-23 19:28:19.459205_192.168.20.38_63545...   \n",
      "4  2020-11-23 19:29:29.178753_192.168.20.38_50750...   \n",
      "\n",
      "                    timestamp         src_ip  src_port         dst_ip  \\\n",
      "0  2020-11-23 19:29:36.240593  192.168.20.38 -0.478867  192.168.20.72   \n",
      "1  2020-11-23 19:28:24.070956  192.168.20.38 -1.225674  192.168.20.72   \n",
      "2  2020-11-23 19:30:10.156905  192.168.20.38  0.999415  192.168.20.72   \n",
      "3  2020-11-23 19:28:19.459205  192.168.20.38  1.080447  192.168.20.72   \n",
      "4  2020-11-23 19:29:29.178753  192.168.20.38 -1.075066  192.168.20.72   \n",
      "\n",
      "   dst_port  duration  total_bytes  receiving_bytes  sending_bytes  ...  \\\n",
      "0 -0.062901 -0.006308    -0.006074        -0.006073      -0.013555  ...   \n",
      "1 -0.062901 -0.006308    -0.006074        -0.006073      -0.013555  ...   \n",
      "2 -0.062901 -0.006308    -0.006074        -0.006073      -0.013555  ...   \n",
      "3 -0.062901 -0.006308    -0.006074        -0.006073      -0.013555  ...   \n",
      "4 -0.062901 -0.006308    -0.006074        -0.006073      -0.013555  ...   \n",
      "\n",
      "   distinct_ttl_values  ttl_values_min  ttl_values_max  ttl_values_mean  \\\n",
      "0                    0              -1              -1             -1.0   \n",
      "1                    0              -1              -1             -1.0   \n",
      "2                    0              -1              -1             -1.0   \n",
      "3                    0              -1              -1             -1.0   \n",
      "4                    0              -1              -1             -1.0   \n",
      "\n",
      "   ttl_values_mode  ttl_values_median  distinct_A_records  \\\n",
      "0             -1.0               -1.0                   0   \n",
      "1             -1.0               -1.0                   0   \n",
      "2             -1.0               -1.0                   0   \n",
      "3             -1.0               -1.0                   0   \n",
      "4             -1.0               -1.0                   0   \n",
      "\n",
      "   ans_resource_record_type ans_resource_record_class label  \n",
      "0                        []                        []   0.0  \n",
      "1                        []                        []   0.0  \n",
      "2                        []                        []   0.0  \n",
      "3                        []                        []   0.0  \n",
      "4                        []                        []   0.0  \n",
      "\n",
      "[5 rows x 45 columns]\n"
     ]
    }
   ],
   "source": [
    "from sklearn.preprocessing import StandardScaler\n",
    "\n",
    "# Select only numerical columns\n",
    "numerical_cols = df_mal.select_dtypes(include=['number']).columns\n",
    "\n",
    "# Initialize scaler\n",
    "scaler = StandardScaler()\n",
    "\n",
    "# Fit and transform the numerical columns\n",
    "df_mal[numerical_cols] = scaler.fit_transform(df_mal[numerical_cols])\n",
    "\n",
    "# Display the first few rows to check\n",
    "print(df_mal.head())\n"
   ]
  },
  {
   "cell_type": "code",
   "execution_count": 26,
   "id": "a0e7150f-3a53-47e8-943e-f7a284169faa",
   "metadata": {},
   "outputs": [
    {
     "name": "stdout",
     "output_type": "stream",
     "text": [
      "\u001b[1m851/851\u001b[0m \u001b[32m━━━━━━━━━━━━━━━━━━━━\u001b[0m\u001b[37m\u001b[0m \u001b[1m1s\u001b[0m 1ms/step\n",
      "Total Samples: 27210\n",
      "Correct Predictions: 27210\n",
      "Incorrect Predictions: 0\n",
      "Accuracy: 100.00%\n"
     ]
    }
   ],
   "source": [
    "import numpy as np\n",
    "# Define selected features (must match training features)\n",
    "selected_features =['sending_bytes', 'min_packets_len','ttl_values_max', 'ttl_values_mean', 'distinct_A_records']\n",
    "label_column = 'label'  # Change this to match the actual label column name\n",
    "# Extract features and labels\n",
    "X_test_new = df_mal[selected_features].values  # Features\n",
    "y_test_new = df_mal[label_column].values       # Actual labels\n",
    "#scaler = StandardScaler()\n",
    "#X_test_scaled = scaler.fit_transform(X_test_new)\n",
    "\n",
    "# Convert to Tensor\n",
    "X_test_ttensor = tf.convert_to_tensor(X_test_new, dtype=tf.float32)\n",
    "\n",
    "# Predict class probabilities\n",
    "predicted_probs = model.predict(X_test_ttensor)\n",
    "\n",
    "# Get predicted class (0 or 1)\n",
    "predicted_classes = np.argmax(predicted_probs, axis=1)\n",
    "\n",
    "# Compare with actual labels\n",
    "correct_predictions = np.sum(predicted_classes == y_test_new)\n",
    "incorrect_predictions = np.sum(predicted_classes != y_test_new)\n",
    "\n",
    "# Print results\n",
    "print(f\"Total Samples: {len(y_test_new)}\")\n",
    "print(f\"Correct Predictions: {correct_predictions}\")\n",
    "print(f\"Incorrect Predictions: {incorrect_predictions}\")\n",
    "print(f\"Accuracy: {correct_predictions / len(y_test_new) * 100:.2f}%\")\n"
   ]
  },
  {
   "cell_type": "code",
   "execution_count": null,
   "id": "7a351e9d-a49c-473f-b2c6-1fc71e9b9893",
   "metadata": {},
   "outputs": [],
   "source": []
  },
  {
   "cell_type": "code",
   "execution_count": null,
   "id": "0dd46071-94a5-4848-bb02-c6082bc7cb3a",
   "metadata": {},
   "outputs": [],
   "source": []
  }
 ],
 "metadata": {
  "kernelspec": {
   "display_name": "Python 3 (ipykernel)",
   "language": "python",
   "name": "python3"
  },
  "language_info": {
   "codemirror_mode": {
    "name": "ipython",
    "version": 3
   },
   "file_extension": ".py",
   "mimetype": "text/x-python",
   "name": "python",
   "nbconvert_exporter": "python",
   "pygments_lexer": "ipython3",
   "version": "3.11.7"
  }
 },
 "nbformat": 4,
 "nbformat_minor": 5
}
